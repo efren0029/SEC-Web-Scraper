{
 "cells": [
  {
   "cell_type": "code",
   "execution_count": 48,
   "metadata": {},
   "outputs": [
    {
     "name": "stdout",
     "output_type": "stream",
     "text": [
      "https://www.sec.gov/Archives/edgar/data/88948/000110465921013394/0001104659-21-013394-index.htm\n",
      "https://www.sec.gov/Archives/edgar/data/1596993/000110465921011032/0001104659-21-011032-index.htm\n",
      "https://www.sec.gov/Archives/edgar/data/936528/000119312521033405/0001193125-21-033405-index.htm\n"
     ]
    }
   ],
   "source": [
    "TickerFile = pd.read_csv(\"symbols.csv\")\n",
    "Tickers = TickerFile['Symbol'].tolist()\n",
    "\n",
    "import urllib.request  as urllib2, os\n",
    "from bs4 import BeautifulSoup as BeautifulSoup\n",
    "import pandas as pd\n",
    "\n",
    "# Step 1: Define funtions to download filings\n",
    "def get_list(ticker):\n",
    "\n",
    "    base_url_part1 = \"http://www.sec.gov/cgi-bin/browse-edgar?action=getcompany&CIK=\"\n",
    "    base_url_part2 = \"&type=&dateb=&owner=&start=\"\n",
    "    base_url_part3 = \"&count=100&output=xml\"\n",
    "    href = []\n",
    "    \n",
    "    for page_number in range(0,2000,1000):\n",
    "    \n",
    "        base_url = base_url_part1 + ticker + base_url_part2 + str(page_number) + base_url_part3\n",
    "        \n",
    "        sec_page = urllib2.urlopen(base_url)\n",
    "        sec_soup = BeautifulSoup(sec_page)\n",
    "        \n",
    "        filings = sec_soup.findAll('filing')\n",
    "        \n",
    "        for filing in filings:\n",
    "            report_year = int(filing.datefiled.get_text()[0:4])\n",
    "            if (filing.type.get_text() == \"SC TO-I\") & (report_year > 2020):\n",
    "                print(filing.filinghref.get_text())\n",
    "                href.append(filing.filinghref.get_text())\n",
    "    \n",
    "    return href\n",
    "\n",
    "for ticker in Tickers:\n",
    "    get_list(ticker)"
   ]
  },
  {
   "cell_type": "code",
   "execution_count": null,
   "metadata": {},
   "outputs": [],
   "source": []
  },
  {
   "cell_type": "code",
   "execution_count": null,
   "metadata": {},
   "outputs": [],
   "source": []
  },
  {
   "cell_type": "code",
   "execution_count": null,
   "metadata": {},
   "outputs": [],
   "source": []
  },
  {
   "cell_type": "code",
   "execution_count": null,
   "metadata": {},
   "outputs": [],
   "source": []
  }
 ],
 "metadata": {
  "kernelspec": {
   "display_name": "Python 3",
   "language": "python",
   "name": "python3"
  },
  "language_info": {
   "codemirror_mode": {
    "name": "ipython",
    "version": 3
   },
   "file_extension": ".py",
   "mimetype": "text/x-python",
   "name": "python",
   "nbconvert_exporter": "python",
   "pygments_lexer": "ipython3",
   "version": "3.8.5"
  }
 },
 "nbformat": 4,
 "nbformat_minor": 4
}
